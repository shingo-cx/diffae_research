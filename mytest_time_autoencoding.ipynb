{
 "cells": [
  {
   "cell_type": "code",
   "execution_count": 1,
   "id": "b46dd69f-2979-4e9d-9940-2f12113c89fb",
   "metadata": {
    "tags": []
   },
   "outputs": [],
   "source": [
    "%load_ext autoreload\n",
    "%autoreload 2"
   ]
  },
  {
   "cell_type": "code",
   "execution_count": 2,
   "id": "c7e24abe-8582-400d-a124-cb5cd4e93e3e",
   "metadata": {
    "tags": []
   },
   "outputs": [],
   "source": [
    "from templates import *"
   ]
  },
  {
   "cell_type": "code",
   "execution_count": 5,
   "id": "652957bb-3005-46ab-b922-bf0904a4f1f1",
   "metadata": {
    "tags": []
   },
   "outputs": [
    {
     "name": "stderr",
     "output_type": "stream",
     "text": [
      "Global seed set to 0\n"
     ]
    },
    {
     "name": "stdout",
     "output_type": "stream",
     "text": [
      "Model params: 160.69 M\n"
     ]
    }
   ],
   "source": [
    "device = 'cuda:0'\n",
    "conf = ffhq256_autoenc()\n",
    "# print(conf.name)\n",
    "model = LitModel(conf)\n",
    "state = torch.load(f'checkpoints/{conf.name}/last.ckpt', map_location='cpu')\n",
    "model.load_state_dict(state['state_dict'], strict=False)\n",
    "model.ema_model.eval()\n",
    "model.ema_model.to(device);"
   ]
  },
  {
   "cell_type": "code",
   "execution_count": 3,
   "id": "c0dc2896-238e-4a15-b9ec-774044508bf7",
   "metadata": {
    "tags": []
   },
   "outputs": [
    {
     "name": "stdout",
     "output_type": "stream",
     "text": [
      "0: idPhoto.png\n",
      "1: megane.png\n",
      "2: sample01.png\n",
      "3: sandy.png\n",
      "4: women_default.png\n",
      "5: yotaka_default.png\n",
      "6: yotaka_smile.png\n"
     ]
    }
   ],
   "source": [
    "img_dir = 'imgs_align'\n",
    "for i,file in enumerate(os.listdir(img_dir)):\n",
    "    print(f'{i}: {file}')"
   ]
  },
  {
   "cell_type": "markdown",
   "id": "e2c4fb87-140c-45cd-ba18-b15dfbc0d23f",
   "metadata": {
    "jp-MarkdownHeadingCollapsed": true,
    "tags": []
   },
   "source": [
    "## 1枚処理"
   ]
  },
  {
   "cell_type": "code",
   "execution_count": 8,
   "id": "8749f4ec-1b9c-4f2c-908c-5b659b4aab39",
   "metadata": {
    "tags": []
   },
   "outputs": [
    {
     "name": "stdout",
     "output_type": "stream",
     "text": [
      "cond\n",
      "CPU times: total: 0 ns\n",
      "Wall time: 8 ms\n",
      "\n",
      "encode\n",
      "CPU times: total: 13.3 s\n",
      "Wall time: 17.1 s\n",
      "\n",
      "decode\n",
      "CPU times: total: 938 ms\n",
      "Wall time: 1.35 s\n",
      "\n",
      "total\n",
      "CPU times: total: 14.3 s\n",
      "Wall time: 18.5 s\n"
     ]
    }
   ],
   "source": [
    "%%time\n",
    "data = ImageDataset(img_dir, image_size=conf.img_size, exts=['jpg', 'JPG', 'png'], do_augment=False)\n",
    "batch = data[1]['img'][None]\n",
    "print(\"cond\")\n",
    "%time cond = model.encode(batch.to(device))\n",
    "print(\"\\nencode\")\n",
    "%time xT = model.encode_stochastic(batch.to(device), cond, T=250)\n",
    "print(\"\\ndecode\")\n",
    "%time pred = model.render(xT, cond, T=20)\n",
    "print(\"\\ntotal\")"
   ]
  },
  {
   "cell_type": "markdown",
   "id": "962a0c3d-38cb-43b9-95ce-d2c012f074ec",
   "metadata": {
    "jp-MarkdownHeadingCollapsed": true,
    "tags": []
   },
   "source": [
    "## 複数枚処理\n",
    "\n",
    "1画像あたり約700MiBくらい使う  \n",
    "torch.cuda.empty_cache()でメモリを解放すると良い  \n",
    "!nvidia-smiでメモリを確認できる  \n",
    "分割した場合1.5倍くらい時間がかかる"
   ]
  },
  {
   "cell_type": "markdown",
   "id": "53aa3ae8-c0cc-4912-ab28-b9935f21f91e",
   "metadata": {
    "jp-MarkdownHeadingCollapsed": true,
    "tags": []
   },
   "source": [
    "### まとめてやった場合"
   ]
  },
  {
   "cell_type": "code",
   "execution_count": null,
   "id": "138fe45a-a64d-4fc4-a4cb-bea311cf1a45",
   "metadata": {
    "tags": []
   },
   "outputs": [],
   "source": [
    "%%time\n",
    "\n",
    "data = ImageDataset(img_dir, image_size=conf.img_size, exts=['jpg', 'JPG', 'png'], do_augment=False)\n",
    "\n",
    "batch = torch.stack([\n",
    "    data[1]['img'],\n",
    "    data[1]['img'],\n",
    "    data[1]['img'],\n",
    "    data[1]['img'],\n",
    "    data[1]['img'],\n",
    "    data[1]['img'],\n",
    "    data[1]['img'],\n",
    "    data[1]['img'],\n",
    "    data[1]['img'],\n",
    "    data[1]['img'],  \n",
    "])\n",
    "\n",
    "print(\"cond\")\n",
    "%time cond = model.encode(batch.to(device))\n",
    "torch.cuda.empty_cache()\n",
    "\n",
    "print(\"encode\")\n",
    "%time xT = model.encode_stochastic(batch.to(device), cond, T=250)\n",
    "torch.cuda.empty_cache()\n",
    "\n",
    "print(\"decode\")\n",
    "%time pred = model.render(xT, cond, T=20)\n",
    "torch.cuda.empty_cache()\n",
    "\n",
    "print(\"total\")"
   ]
  },
  {
   "cell_type": "markdown",
   "id": "8fa9587e-c699-46cc-941e-c53ae1b86f60",
   "metadata": {
    "jp-MarkdownHeadingCollapsed": true,
    "tags": []
   },
   "source": [
    "### 分割した場合"
   ]
  },
  {
   "cell_type": "code",
   "execution_count": null,
   "id": "27b55704-2048-4609-936e-0e87c794404a",
   "metadata": {
    "tags": []
   },
   "outputs": [],
   "source": [
    "%%time\n",
    "data = ImageDataset(img_dir, image_size=conf.img_size, exts=['jpg', 'JPG', 'png'], do_augment=False)\n",
    "\n",
    "xTs = []\n",
    "conds = []\n",
    "preds = []\n",
    "for i in range(10):\n",
    "    batch = data[1]['img'][None]\n",
    "    \n",
    "    print(f\"{i+1}\")\n",
    "    print(\"cond\")\n",
    "    %time cond = model.encode(batch.to(device))\n",
    "    \n",
    "    print(\"encode\")\n",
    "    %time xT = model.encode_stochastic(batch.to(device), cond, T=250)\n",
    "    \n",
    "    print(\"decode\")\n",
    "    %time pred = model.render(xT, cond, T=20)\n",
    "    \n",
    "    print()\n",
    "    conds.append(cond[0])\n",
    "    xTs.append(xT[0])\n",
    "    preds.append(pred[0])\n",
    "    \n",
    "print(\"total\")"
   ]
  },
  {
   "cell_type": "markdown",
   "id": "ffb48a95-9580-4597-b7c8-fb82024c6b67",
   "metadata": {
    "jp-MarkdownHeadingCollapsed": true,
    "tags": []
   },
   "source": [
    "## 画像の保存"
   ]
  },
  {
   "cell_type": "code",
   "execution_count": 11,
   "id": "077eb7df-f16f-46e3-ba65-a905d24253a1",
   "metadata": {
    "tags": []
   },
   "outputs": [],
   "source": [
    "from torchvision.utils import save_image\n",
    "\n",
    "dst_dir = 'imgs_test/imgs_reconstruct/'\n",
    "file_name = 'megane.png'\n",
    "dst_path = dst_dir + file_name\n",
    "if not os.path.exists(dst_dir): os.makedirs(dst_dir)\n",
    "save_image(pred[0], dst_path)"
   ]
  },
  {
   "cell_type": "markdown",
   "id": "05345398-0311-4e6c-8552-3bbe884c15fb",
   "metadata": {
    "jp-MarkdownHeadingCollapsed": true,
    "tags": []
   },
   "source": [
    "## 画像の評価"
   ]
  },
  {
   "cell_type": "code",
   "execution_count": 121,
   "id": "8bb3a4d7-f44e-4f58-b5ce-0e536f790aee",
   "metadata": {
    "tags": []
   },
   "outputs": [],
   "source": [
    "from ssim import *"
   ]
  },
  {
   "cell_type": "code",
   "execution_count": 153,
   "id": "14f10493-9542-4895-9aec-48b3267b2f9f",
   "metadata": {
    "tags": []
   },
   "outputs": [
    {
     "data": {
      "text/plain": [
       "tensor(0.9804, device='cuda:0')"
      ]
     },
     "execution_count": 153,
     "metadata": {},
     "output_type": "execute_result"
    }
   ],
   "source": [
    "ori = ori.to(device)\n",
    "ssim(ori[0][None], pred[0][None])"
   ]
  },
  {
   "cell_type": "code",
   "execution_count": 179,
   "id": "bd4df00c-2d5e-4247-a57b-50db554b172f",
   "metadata": {
    "tags": []
   },
   "outputs": [
    {
     "data": {
      "text/plain": [
       "tensor(0.9118, device='cuda:0')"
      ]
     },
     "execution_count": 179,
     "metadata": {},
     "output_type": "execute_result"
    }
   ],
   "source": [
    "# import cv2\n",
    "ori_path = 'imgs_test_align/test01.png'\n",
    "recon_path = 'imgs_recon/test01.png'\n",
    "ori = torch.from_numpy(cv2.imread(ori_path).astype(np.float32)).to(device)\n",
    "recon = torch.from_numpy(cv2.imread(recon_path).astype(np.float32)).to(device)\n",
    "ori = ori.permute(2, 0, 1)[None]\n",
    "recon = recon.permute(2, 0, 1)[None]\n",
    "ssim(ori, recon)"
   ]
  }
 ],
 "metadata": {
  "kernelspec": {
   "display_name": "Python 3 (ipykernel)",
   "language": "python",
   "name": "python3"
  },
  "language_info": {
   "codemirror_mode": {
    "name": "ipython",
    "version": 3
   },
   "file_extension": ".py",
   "mimetype": "text/x-python",
   "name": "python",
   "nbconvert_exporter": "python",
   "pygments_lexer": "ipython3",
   "version": "3.10.2"
  }
 },
 "nbformat": 4,
 "nbformat_minor": 5
}
