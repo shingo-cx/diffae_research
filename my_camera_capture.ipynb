{
 "cells": [
  {
   "cell_type": "code",
   "execution_count": 1,
   "id": "9c284732-29c9-4409-be33-830d303bbabe",
   "metadata": {
    "tags": []
   },
   "outputs": [],
   "source": [
    "import cv2\n",
    "import os\n",
    "import os.path as osp"
   ]
  },
  {
   "cell_type": "markdown",
   "id": "e6f4312e-af4d-449f-98f2-395ab45a78ee",
   "metadata": {},
   "source": [
    "### カメラ（静止画）"
   ]
  },
  {
   "cell_type": "code",
   "execution_count": 2,
   "id": "2ce8db0e-c7bc-47cf-9b86-e8e2efbc2e99",
   "metadata": {
    "tags": []
   },
   "outputs": [],
   "source": [
    "OUTPUT_DIR = 'imgs_capture'\n",
    "BASENAME = 'img'\n",
    "EXT = 'jpg'\n",
    "\n",
    "if not osp.exists(OUTPUT_DIR):\n",
    "    os.makedirs(OUTPUT_DIR)\n",
    "base_path = osp.join(OUTPUT_DIR, BASENAME)  \n",
    "\n",
    "# cを押してキャプチャー, qを押して終了\n",
    "def save_frame_camera(base_path, ext='jpg', device_num=0, delay=1, window_name='frame'):\n",
    "    cap = cv2.VideoCapture(device_num)\n",
    "\n",
    "    if not cap.isOpened():\n",
    "        return\n",
    "\n",
    "    n = 0\n",
    "    while True:\n",
    "        ret, frame = cap.read()\n",
    "        cv2.imshow(window_name, frame)\n",
    "        key = cv2.waitKey(delay) & 0xFF\n",
    "        if key == ord('c'):\n",
    "            cv2.imwrite(f'{base_path}_{n}.{ext}', frame)\n",
    "            n += 1\n",
    "        elif key == ord('q'):\n",
    "            break\n",
    "    \n",
    "    cap.release()\n",
    "    cv2.destroyWindow(window_name)\n",
    "\n",
    "\n",
    "save_frame_camera(base_path, ext=EXT)"
   ]
  },
  {
   "cell_type": "markdown",
   "id": "addeb8c8-b484-4fc8-b7e5-13e1bcb5efa2",
   "metadata": {},
   "source": [
    "### カメラ（動画）"
   ]
  },
  {
   "cell_type": "code",
   "execution_count": 6,
   "id": "b3f5bd98-065a-4dc0-b6d1-89f9d335a83f",
   "metadata": {
    "tags": []
   },
   "outputs": [
    {
     "name": "stdout",
     "output_type": "stream",
     "text": [
      "fps: 30\n",
      "width, height: 640, 360\n"
     ]
    }
   ],
   "source": [
    "OUTPUT_DIR = 'videos_capture'\n",
    "BASENAME = 'video'\n",
    "EXT = 'mp4'\n",
    "\n",
    "if not osp.exists(OUTPUT_DIR):\n",
    "    os.makedirs(OUTPUT_DIR)\n",
    "base_path = osp.join(OUTPUT_DIR, BASENAME) \n",
    "\n",
    "# cを押してキャプチャー, qを押して終了\n",
    "def save_video_camera(base_path, ext='mp4', device_num=0, delay=1, window_name='video'):\n",
    "    cap = cv2.VideoCapture(device_num)\n",
    "\n",
    "    if not cap.isOpened():\n",
    "        return\n",
    "\n",
    "    fourcc = cv2.VideoWriter_fourcc(*'MP4V')\n",
    "    width = int(cap.get(cv2.CAP_PROP_FRAME_WIDTH))\n",
    "    height = int(cap.get(cv2.CAP_PROP_FRAME_HEIGHT))\n",
    "    fps = int(cap.get(cv2.CAP_PROP_FPS))\n",
    "    writer = cv2.VideoWriter(f'{base_path}.{ext}', fourcc, fps, (width, height))\n",
    "\n",
    "    print(f\"fps: {fps}\")\n",
    "    print(f\"width,height: {width},{height}\")\n",
    "    \n",
    "    while True:\n",
    "        ret, frame = cap.read()\n",
    "        cv2.imshow(window_name, frame)\n",
    "        key = cv2.waitKey(delay) & 0xFF\n",
    "        if key == ord('c'):\n",
    "            writer.write(frame)\n",
    "        elif key == ord('q'):\n",
    "            break\n",
    "    \n",
    "    writer.release()\n",
    "    cap.release()\n",
    "    cv2.destroyWindow(window_name)\n",
    "\n",
    "\n",
    "save_video_camera(base_path, ext=EXT)"
   ]
  },
  {
   "cell_type": "markdown",
   "id": "19a6fe5d-4650-45e1-8e45-98f32d2f66e3",
   "metadata": {
    "tags": []
   },
   "source": [
    "### 動画のフレーム分割"
   ]
  },
  {
   "cell_type": "code",
   "execution_count": 2,
   "id": "770751c6-4974-4478-848a-f5d59f19c3cb",
   "metadata": {
    "tags": []
   },
   "outputs": [
    {
     "name": "stdout",
     "output_type": "stream",
     "text": [
      "fps:29\n",
      "total_frame:180\n"
     ]
    }
   ],
   "source": [
    "# 動画のパス\n",
    "VIDEO_PATH = 'videos/video3.mp4'\n",
    "EXT = 'jpg'\n",
    "\n",
    "video_name = osp.splitext(osp.basename(VIDEO_PATH))[0]\n",
    "video_frame_path = f'videos/{video_name}_frames'\n",
    "\n",
    "if not osp.exists(video_frame_path):\n",
    "    os.makedirs(video_frame_path)\n",
    "\n",
    "cap = cv2.VideoCapture(VIDEO_PATH)\n",
    "\n",
    "n_frames = int(cap.get(cv2.CAP_PROP_FRAME_COUNT))\n",
    "n_digits = len(str(n_frames))\n",
    "fps = int(cap.get(cv2.CAP_PROP_FPS))\n",
    "print(f'fps:{fps}')\n",
    "print(f'total_frame:{n_frames}')\n",
    "\n",
    "while True:\n",
    "    ret, frame = cap.read()\n",
    "    if not ret:\n",
    "        break\n",
    "\n",
    "    frame_no = int(cap.get(cv2.CAP_PROP_POS_FRAMES))\n",
    "\n",
    "    save_path = f'{video_frame_path}/{frame_no:0{n_digits}d}.{EXT}'\n",
    "    cv2.imwrite(save_path, frame)\n",
    "\n",
    "cap.release()"
   ]
  }
 ],
 "metadata": {
  "kernelspec": {
   "display_name": "Python 3 (ipykernel)",
   "language": "python",
   "name": "python3"
  },
  "language_info": {
   "codemirror_mode": {
    "name": "ipython",
    "version": 3
   },
   "file_extension": ".py",
   "mimetype": "text/x-python",
   "name": "python",
   "nbconvert_exporter": "python",
   "pygments_lexer": "ipython3",
   "version": "3.11.4"
  }
 },
 "nbformat": 4,
 "nbformat_minor": 5
}
